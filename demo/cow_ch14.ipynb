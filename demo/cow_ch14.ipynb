{
 "cells": [
  {
   "cell_type": "code",
   "execution_count": 1,
   "id": "a740eeb4-32bf-4575-96ff-b5215859c76e",
   "metadata": {},
   "outputs": [],
   "source": [
    "import os\n",
    "import sys\n",
    "from pathlib import Path\n",
    "import argparse \n",
    "import random\n",
    "import time \n",
    "import datetime\n",
    "import torch\n",
    "import numpy as np\n",
    "import pandas as pd\n",
    "import seaborn as sns\n",
    "import torch.nn as nn\n",
    "import torch.optim as optim\n",
    "import torch.nn.functional as F\n",
    "import torch.autograd as autograd\n",
    "import torch.nn.utils.spectral_norm as SN\n",
    "from torch.utils.data import Dataset, DataLoader, TensorDataset\n",
    "import matplotlib.pyplot as plt"
   ]
  },
  {
   "cell_type": "markdown",
   "id": "da218175-5e02-450b-931e-88c114fb694d",
   "metadata": {},
   "source": [
    "# Import Metrics"
   ]
  },
  {
   "cell_type": "code",
   "execution_count": 2,
   "id": "cd03490e-62b4-4fdb-ae69-47636a2a78b7",
   "metadata": {},
   "outputs": [
    {
     "name": "stderr",
     "output_type": "stream",
     "text": [
      "2025-07-21 15:29:50.071725: E tensorflow/compiler/xla/stream_executor/cuda/cuda_dnn.cc:9342] Unable to register cuDNN factory: Attempting to register factory for plugin cuDNN when one has already been registered\n",
      "2025-07-21 15:29:50.071819: E tensorflow/compiler/xla/stream_executor/cuda/cuda_fft.cc:609] Unable to register cuFFT factory: Attempting to register factory for plugin cuFFT when one has already been registered\n",
      "2025-07-21 15:29:50.071891: E tensorflow/compiler/xla/stream_executor/cuda/cuda_blas.cc:1518] Unable to register cuBLAS factory: Attempting to register factory for plugin cuBLAS when one has already been registered\n",
      "2025-07-21 15:29:50.084497: I tensorflow/core/platform/cpu_feature_guard.cc:182] This TensorFlow binary is optimized to use available CPU instructions in performance-critical operations.\n",
      "To enable the following instructions: AVX2 FMA, in other operations, rebuild TensorFlow with the appropriate compiler flags.\n",
      "2025-07-21 15:29:50.995977: W tensorflow/compiler/tf2tensorrt/utils/py_utils.cc:38] TF-TRT Warning: Could not find TensorRT\n"
     ]
    }
   ],
   "source": [
    "sys.path.append(\"../\")\n",
    "# Import the metrics function\n",
    "from metric.evaluator import train_evaluator\n",
    "from metric.pca import *\n",
    "from metric.fst import *\n",
    "from metric.umap import *\n",
    "from metric.precision_recall import *\n",
    "from metric.correlation_score import *\n",
    "from metric.aats import *\n",
    "from metric.basic_sanity_check import *\n",
    "from metric.allele_freq import *\n",
    "from metric.geno_freq import *\n",
    "from metric.LD import *\n",
    "from metric.GWAS import *"
   ]
  },
  {
   "cell_type": "markdown",
   "id": "a7bfcca7-9def-414a-b06e-262a49fd326c",
   "metadata": {},
   "source": [
    "# Import Trained Models"
   ]
  },
  {
   "cell_type": "markdown",
   "id": "517a6526-caef-4322-8490-edfeb779b668",
   "metadata": {},
   "source": [
    "## Import and Load trained VAE"
   ]
  },
  {
   "cell_type": "code",
   "execution_count": 3,
   "id": "9c69fca4-34ec-4866-a403-9d1a4176c230",
   "metadata": {},
   "outputs": [],
   "source": [
    "# Import Trained Models\n",
    "sys.path.append(\"../models/VAE/cows/CH14\")\n",
    "## VAE for Cow CH14\n",
    "from model import VAE\n",
    "# Load Configuration\n",
    "from configs import (\n",
    "    sequence_length,\n",
    "    batch_size,\n",
    "    learning_rate,\n",
    "    num_epochs,\n",
    "    encoder_dims,\n",
    "    decoder_dims,\n",
    "    latent_dim,\n",
    "    step,\n",
    "    device\n",
    ")"
   ]
  },
  {
   "cell_type": "code",
   "execution_count": 6,
   "id": "cbc04503-8f77-4270-bbe4-ed2c49f89ad1",
   "metadata": {},
   "outputs": [],
   "source": [
    "vae = VAE(sequence_length, latent_dim, encoder_dims, decoder_dims).to(device)"
   ]
  },
  {
   "cell_type": "code",
   "execution_count": 7,
   "id": "e857842a-6c64-469f-84e4-1987c64b4a3c",
   "metadata": {},
   "outputs": [
    {
     "data": {
      "text/plain": [
       "<All keys matched successfully>"
      ]
     },
     "execution_count": 7,
     "metadata": {},
     "output_type": "execute_result"
    }
   ],
   "source": [
    "vae.decoder.load_state_dict(torch.load(\"../models/VAE/cows/CH14/vae_cow_ch14.pth\"))"
   ]
  },
  {
   "cell_type": "markdown",
   "id": "e6cd9913-2323-4028-a9bf-5dd951367229",
   "metadata": {},
   "source": [
    "## Import and Load trained GAN+GS"
   ]
  },
  {
   "cell_type": "code",
   "execution_count": null,
   "id": "e544f884-bd69-422f-acf7-0de375f54b40",
   "metadata": {},
   "outputs": [],
   "source": []
  },
  {
   "cell_type": "code",
   "execution_count": null,
   "id": "a9abe04d-7662-430f-819d-2c9215c4291d",
   "metadata": {},
   "outputs": [],
   "source": []
  },
  {
   "cell_type": "markdown",
   "id": "3e0aaeb0-f0b4-43f1-a388-96e8e45622b6",
   "metadata": {},
   "source": [
    "# Generate Synthetic Data"
   ]
  },
  {
   "cell_type": "markdown",
   "id": "35f56ba0-7724-4d43-a225-468617139a2a",
   "metadata": {},
   "source": [
    "## Using VAE to generate synthetic data"
   ]
  },
  {
   "cell_type": "code",
   "execution_count": 8,
   "id": "9fdee1de-d1bc-4957-af56-302c0c84f0a5",
   "metadata": {},
   "outputs": [],
   "source": [
    "vae.eval()\n",
    "VAE_AGs = []\n",
    "for i in range(5):\n",
    "    AG = vae.generate(10000)\n",
    "    VAE_AGs.append(pd.DataFrame(AG,dtype=float))"
   ]
  },
  {
   "cell_type": "markdown",
   "id": "40370e57-e24e-4c1c-a07d-1b393a7cb84b",
   "metadata": {},
   "source": [
    "## Using GAN+GS to generate synthetic data"
   ]
  },
  {
   "cell_type": "code",
   "execution_count": null,
   "id": "7de32d13-f4dc-4814-b151-1bb712770cc8",
   "metadata": {},
   "outputs": [],
   "source": []
  },
  {
   "cell_type": "code",
   "execution_count": null,
   "id": "21bbaf1d-a99a-4f53-8263-d6fafe34b98d",
   "metadata": {},
   "outputs": [],
   "source": []
  },
  {
   "cell_type": "markdown",
   "id": "3c054028-7d9d-463f-a79f-a71f5598c8ca",
   "metadata": {},
   "source": [
    "# Compute the evaluation metrics"
   ]
  },
  {
   "cell_type": "raw",
   "id": "f5b140ab-1dd4-41bd-823b-b06d0bcbb101",
   "metadata": {},
   "source": [
    "Note that we compute the metrics here only between the synthetic populations generated by VAE and GAN (not between synthetic data with real populations), solely to demonstrate how the metrics work. "
   ]
  },
  {
   "cell_type": "markdown",
   "id": "4b41af1f-254d-41b9-81a8-24738254cb44",
   "metadata": {},
   "source": [
    "## PCA and UMAP"
   ]
  },
  {
   "cell_type": "code",
   "execution_count": null,
   "id": "fd70976e-547d-4676-96a6-a893e8d1ca2a",
   "metadata": {},
   "outputs": [],
   "source": [
    "geno_PCA_32PC(VAE_AGs[0],GAN_AGs[0],'VAE','GAN',\"PCA_32PC\")"
   ]
  },
  {
   "cell_type": "code",
   "execution_count": null,
   "id": "6002ee50-e67e-4191-9813-eb16d911a1e2",
   "metadata": {},
   "outputs": [],
   "source": [
    "geno_UMAP(VAE_AGs[0],GAN_AGs[0],'VAE','GAN',\"UMAP\")"
   ]
  },
  {
   "cell_type": "markdown",
   "id": "190d896b-6428-4f43-8568-0ba24f1deac8",
   "metadata": {},
   "source": [
    "## Fixation Index"
   ]
  },
  {
   "cell_type": "code",
   "execution_count": null,
   "id": "e778ef2d-be61-4da1-b487-851fa89dbe9f",
   "metadata": {},
   "outputs": [],
   "source": [
    "result_fst = []\n",
    "for i in range(len(VAE_AGs)):\n",
    "    result_fst.append(aggregated_fst(VAE_AGs[i], GAN_AGs[i]))\n",
    "average_metric = np.mean(result_fst)\n",
    "precision = np.std(result_fst, ddof=1)  # ddof=1 for sample standard deviation\n",
    "print(\"{:.6f} ± {:.6f}\".format(average_metric, precision))"
   ]
  },
  {
   "cell_type": "markdown",
   "id": "61a40305-f23f-4055-9eb4-51d47fdfd044",
   "metadata": {},
   "source": [
    "## Precision and Recall"
   ]
  },
  {
   "cell_type": "code",
   "execution_count": null,
   "id": "946d6a6e-9a3e-4e8a-8cb6-ef36891e506f",
   "metadata": {},
   "outputs": [],
   "source": [
    "precisions,recalls, f1s = [],[],[]\n",
    "for i in range(len(VAE_AGs)):\n",
    "    precision, recall = get_precision_recall(torch.tensor(VAE_AGs[i].to_numpy()).to(dtype=torch.float32), torch.tensor(GAN_AGs[i].to_numpy()).to(dtype=torch.float32), ks=[60], distance = \"euclidean\")\n",
    "    f1_score = 2 * (precision * recall) / (precision + recall)\n",
    "    precisions.append(precision)\n",
    "    recalls.append(recall)\n",
    "    f1s.append(f1_score)"
   ]
  },
  {
   "cell_type": "code",
   "execution_count": null,
   "id": "3c1a37f2-7660-45a0-a470-af484e74b829",
   "metadata": {},
   "outputs": [],
   "source": [
    "# Precisions\n",
    "average_metric = np.mean(precisions)\n",
    "precision = np.std(precisions, ddof=1)\n",
    "print(\"{:.6f} ± {:.6f}\".format(average_metric, precision))"
   ]
  },
  {
   "cell_type": "code",
   "execution_count": null,
   "id": "21e84899-38b4-40e4-8f5d-e7e83ea72ddf",
   "metadata": {},
   "outputs": [],
   "source": [
    "# Recalls\n",
    "average_metric = np.mean(recalls)\n",
    "precision = np.std(recalls, ddof=1) \n",
    "print(\"{:.6f} ± {:.6f}\".format(average_metric, precision))"
   ]
  },
  {
   "cell_type": "code",
   "execution_count": null,
   "id": "0edef324-8972-4f57-911f-085058f30982",
   "metadata": {},
   "outputs": [],
   "source": [
    "# F1\n",
    "average_metric = np.mean(f1s)\n",
    "precision = np.std(f1s, ddof=1)\n",
    "print(\"{:.6f} ± {:.6f}\".format(average_metric, precision))"
   ]
  },
  {
   "cell_type": "markdown",
   "id": "48f33c60-29e4-44d7-b7bf-e46a756b38f5",
   "metadata": {},
   "source": [
    "## Allele and Genotype Frequency"
   ]
  },
  {
   "cell_type": "code",
   "execution_count": null,
   "id": "c4e13640-b7f8-4017-9d3f-98192761bffb",
   "metadata": {},
   "outputs": [],
   "source": [
    "plot_allele_freq(VAE_AGs[0],GAN_AGs[0],'VAE','GAN',\"allele_freq\")"
   ]
  },
  {
   "cell_type": "code",
   "execution_count": null,
   "id": "a54eb59a-8ab3-4d5a-9e80-0e621fe340c6",
   "metadata": {},
   "outputs": [],
   "source": [
    "plot_geno_freq(VAE_AGs[0],GAN_AGs[0],'VAE','GAN',\"geno_freq\")"
   ]
  },
  {
   "cell_type": "markdown",
   "id": "88e425eb-fe3f-4156-9516-90f76e1f59f2",
   "metadata": {},
   "source": [
    "## Adversarial Accuracy"
   ]
  },
  {
   "cell_type": "code",
   "execution_count": null,
   "id": "06e4e98e-e9a5-4058-87c9-115654a5aaa1",
   "metadata": {},
   "outputs": [],
   "source": [
    "plot_aats(AATS(VAE_AGs[0],GAN_AGs[0], metric=\"euclidean\"),'VAE','GAN',\"AA\")"
   ]
  },
  {
   "cell_type": "markdown",
   "id": "604adc36-a0da-4ada-8c2a-af9a3a4ca2fa",
   "metadata": {},
   "source": [
    "## Correlation Score"
   ]
  },
  {
   "cell_type": "code",
   "execution_count": null,
   "id": "3bc6515e-d4c6-469b-8e8c-9833a6b91783",
   "metadata": {},
   "outputs": [],
   "source": [
    "result_corr = []\n",
    "for i in range(len(AGs)):\n",
    "    result_corr.append(corr_score(VAE_AGs[0],GAN_AGs[0]))\n",
    "average_metric = np.mean(result_corr)\n",
    "precision = np.std(result_corr, ddof=1)\n",
    "print(\"{:.6f} ± {:.6f}\".format(average_metric, precision))"
   ]
  },
  {
   "cell_type": "markdown",
   "id": "57fde762-1234-4230-b19f-792848a32d99",
   "metadata": {},
   "source": [
    "## LD and LD Decay"
   ]
  },
  {
   "cell_type": "code",
   "execution_count": null,
   "id": "f4ccb2be-bedb-46c0-af83-3c94121889af",
   "metadata": {},
   "outputs": [],
   "source": [
    "plot_LD(VAE_AGs[0].iloc[:, :100],GAN_AGs[0].iloc[:, :100],\"VAE\",\"GAN\",\"LD_100snps\")"
   ]
  },
  {
   "cell_type": "code",
   "execution_count": null,
   "id": "af5a7be5-b78f-4cd9-9033-aae09f970169",
   "metadata": {},
   "outputs": [],
   "source": [
    "plot_LD(VAE_AGs[0].iloc[:, :1000],GAN_AGs[0].iloc[:, :1000],\"VAE\",\"GAN\",\"LD_1000snps\")"
   ]
  },
  {
   "cell_type": "code",
   "execution_count": 23,
   "id": "11722ada-59bc-4b46-bdfa-47640e72e954",
   "metadata": {},
   "outputs": [],
   "source": [
    "cow_ch14 = pd.read_csv(\"../metadata/cow_snp_position_by_chr.csv\")\n",
    "cow_ch14_positions = cow_ch14[cow_ch14[\"Chromosome\"] == 14][\"Position_BP\"].to_numpy()"
   ]
  },
  {
   "cell_type": "code",
   "execution_count": null,
   "id": "5dfc8345-6d89-4edb-9a8d-febc7d42821f",
   "metadata": {},
   "outputs": [],
   "source": [
    "plot_LD_decay(VAE_AGs[0], GAN_AGs[0], cow_ch14_positions, 10**6, 10**3, 10**6, 'VAE', 'GAN', \"LD_DECAY\")"
   ]
  }
 ],
 "metadata": {
  "kernelspec": {
   "display_name": "Python 3 (ipykernel)",
   "language": "python",
   "name": "python3"
  },
  "language_info": {
   "codemirror_mode": {
    "name": "ipython",
    "version": 3
   },
   "file_extension": ".py",
   "mimetype": "text/x-python",
   "name": "python",
   "nbconvert_exporter": "python",
   "pygments_lexer": "ipython3",
   "version": "3.11.6"
  }
 },
 "nbformat": 4,
 "nbformat_minor": 5
}
